{
 "cells": [
  {
   "attachments": {},
   "cell_type": "markdown",
   "metadata": {},
   "source": [
    "## Data gathering script\n",
    "\n",
    "This exercise is to write a program to interact with the users by obtaining certain information from them and storing it in a dictionary. There are two ways to achieve this\n",
    "\n",
    "1. Create a dictionary for each individual containing all the information in the keys of the dictionary\n",
    "2. Create just one dictionary to obtain information of multiple people and stored within lists inside the dictionary where each position on the list is mapped to an individual\n",
    "\n",
    "This notebook is a walkthrough to help guide to do write and execute this python script. For each part you have to fill a comment will be placed to explain what you need to do\n",
    "\n",
    "For this exercise, the following information from the user:\n",
    "1. Firstname\n",
    "2. Lastname\n",
    "3. Age\n",
    "4. Birthday\n",
    "5. Occupation\n",
    "6. Address location"
   ]
  },
  {
   "attachments": {},
   "cell_type": "markdown",
   "metadata": {},
   "source": [
    "#### Method 1"
   ]
  },
  {
   "cell_type": "code",
   "execution_count": null,
   "metadata": {},
   "outputs": [],
   "source": [
    "# create dictionary with relavant keys and assign to empty strings \n",
    "info_dict = {\n",
    "    firstname = \"\",\n",
    "    lastname = \"\",\n",
    "    age = 0,\n",
    "    birthday = \"\",\n",
    "    occupation = \"\",\n",
    "    location = \"\"\n",
    "} "
   ]
  },
  {
   "cell_type": "code",
   "execution_count": null,
   "metadata": {},
   "outputs": [],
   "source": [
    "# using the input function obtain the information from the user\n",
    "# complete this one\n",
    "# take note of the age as it is integer\n",
    "\n",
    "info_dict[\"firstname\"] = input(\"Enter your firstname: \")\n",
    "info_dict[\"lastname\"] = \n",
    "info_dict[\"age\"] = \n",
    "info_dict[\"birthday\"] = \n",
    "info_dict[\"occupation\"] = \n",
    "info_dict[\"location\"] = \n"
   ]
  },
  {
   "cell_type": "code",
   "execution_count": null,
   "metadata": {},
   "outputs": [],
   "source": [
    "# review the dictionary with all the information\n",
    "info_dict"
   ]
  },
  {
   "attachments": {},
   "cell_type": "markdown",
   "metadata": {},
   "source": [
    "#### Method 2"
   ]
  },
  {
   "cell_type": "code",
   "execution_count": null,
   "metadata": {},
   "outputs": [],
   "source": [
    "# create dictionary with relavant keys and assign to empty lists \n",
    "info_dict_2 = {\n",
    "    firstname = [],\n",
    "    lastname = [],\n",
    "    age = [],\n",
    "    birthday = [],\n",
    "    occupation = [],\n",
    "    location = []\n",
    "} "
   ]
  },
  {
   "attachments": {},
   "cell_type": "markdown",
   "metadata": {},
   "source": [
    "The idea with this method is to continuously request for a new set of information in the assumption that multiple people will be putting their information. For this a while statement can be used to continuously request for the information"
   ]
  },
  {
   "cell_type": "code",
   "execution_count": null,
   "metadata": {},
   "outputs": [],
   "source": [
    "# this is to determine the number of time the while loop will run for\n",
    "request_times = int(input(\"Enter a number greater than zero: \"))\n",
    "\n",
    "while request_times > 0:\n",
    "\n",
    "    # create variables for each of the information and use input function to get the information\n",
    "    # fill this part\n",
    "    first_name = input(\"Enter your firstname: \")\n",
    "    last_name = \"\"\n",
    "    age = \"\"\n",
    "    dateOfBirth = \"\"\n",
    "    job = \"\"\n",
    "    location = \"\"\n",
    "\n",
    "    # now append each of the information you have gotten to the list in the dictionary\n",
    "    # complete this part\n",
    "    info_dict_2[\"firstname\"].append(first_name)\n",
    "\n",
    "\n",
    "    # subtract from variable\n",
    "    request_times =- 1\n",
    "\n"
   ]
  },
  {
   "cell_type": "code",
   "execution_count": null,
   "metadata": {},
   "outputs": [],
   "source": [
    "# view final dictionary\n",
    "info_dict_2"
   ]
  }
 ],
 "metadata": {
  "kernelspec": {
   "display_name": "base",
   "language": "python",
   "name": "python3"
  },
  "language_info": {
   "name": "python",
   "version": "3.9.12"
  },
  "orig_nbformat": 4,
  "vscode": {
   "interpreter": {
    "hash": "53b9acdd54ac879a551304c815d5656c3a1d5d5cc610a256e6098324c699f771"
   }
  }
 },
 "nbformat": 4,
 "nbformat_minor": 2
}
