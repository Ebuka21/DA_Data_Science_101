{
 "cells": [
  {
   "attachments": {},
   "cell_type": "markdown",
   "metadata": {},
   "source": [
    "### Rock, Paper and Scissors Walkthrough\n",
    "\n",
    "For this walkthrough, comments will be made in each cell indicating steps showing you what you should do at that point. This is a general walkthrough and you are welcome to still modify it to your personal taste."
   ]
  },
  {
   "cell_type": "code",
   "execution_count": null,
   "metadata": {},
   "outputs": [],
   "source": [
    "# importing any necessary modules\n",
    "import random"
   ]
  },
  {
   "cell_type": "code",
   "execution_count": null,
   "metadata": {},
   "outputs": [],
   "source": [
    "# introduce the player to the game, make it fun 😁 use print statements\n",
    "\n",
    "print(\"Welcome to Rock, Paper and Scissor game\")\n",
    "print(\"Do try your best to win if you dare\")"
   ]
  },
  {
   "attachments": {},
   "cell_type": "markdown",
   "metadata": {},
   "source": [
    "For this game, you're advised to use the random module to enable the program randomly pick a value between rock, paper and scissors.\n",
    "\n",
    "Information about this module can be found in this link:\n",
    "\n",
    "<a href=https://www.w3schools.com/python/module_random.asp>Random module</a>\n",
    "\n",
    "Focus on using the choice method but do play around with it to familiarize yourself"
   ]
  },
  {
   "cell_type": "code",
   "execution_count": null,
   "metadata": {},
   "outputs": [],
   "source": [
    "# create a list containing the strings rock, paper and scissors\n",
    "game_list = [\"rock\",\"paper\",\"scissors\"]"
   ]
  },
  {
   "cell_type": "code",
   "execution_count": null,
   "metadata": {},
   "outputs": [],
   "source": [
    "# using random method pick a value from your list above and assign it to a variable\n",
    "game_choice = random.choice(game_list)"
   ]
  },
  {
   "cell_type": "code",
   "execution_count": null,
   "metadata": {},
   "outputs": [],
   "source": [
    "# ask the player to choose either rock, paper or scissors and store their answer in a variable\n",
    "player_choice = input(\"Choose one: \")"
   ]
  },
  {
   "cell_type": "code",
   "execution_count": null,
   "metadata": {},
   "outputs": [],
   "source": [
    "# write an if, elif and else statement to compare the values of the 2 variables indicating who wins based on which item/value was chosen by both the player and computer\n",
    "if game_choice == player_choice:\n",
    "    print(\"DRAW!!!!\")\n",
    "elif game_choice == \"rock\" and player_choice == \"paper\":\n",
    "    print(\"Player wins\")\n",
    "elif game_choice == \"rock\" and player_choice == \"scissors\":\n",
    "    print(\"Computer wins\")\n",
    "elif game_choice == \"paper\" and player_choice == \"scissors\":\n",
    "    print(\"Player wins\")\n",
    "elif game_choice == \"paper\" and player_choice == \"rock\":\n",
    "    print(\"Computer wins\")\n",
    "elif game_choice == \"scissors\" and player_choice == \"rock\":\n",
    "    print(\"Player wins\")\n",
    "elif game_choice == \"scissors\" and player_choice == \"paper\":\n",
    "    print(\"Computer wins\")"
   ]
  },
  {
   "attachments": {},
   "cell_type": "markdown",
   "metadata": {},
   "source": [
    "### Game End"
   ]
  },
  {
   "attachments": {},
   "cell_type": "markdown",
   "metadata": {},
   "source": [
    "#### Advanced \n",
    "\n",
    "For this advanced walkthrough, a function will be created and a while loop will be inserted to either end the game or have it continue"
   ]
  },
  {
   "cell_type": "code",
   "execution_count": null,
   "metadata": {},
   "outputs": [],
   "source": [
    "#create a function to check the values and compare to decide who wins\n",
    "def who_wins(player,computer):\n",
    "    if game_choice == player_choice:\n",
    "        print(\"DRAW!!!!\")\n",
    "    elif game_choice == \"rock\" and player_choice == \"paper\":\n",
    "        print(\"Player wins\")\n",
    "    elif game_choice == \"rock\" and player_choice == \"scissors\":\n",
    "        print(\"Computer wins\")\n",
    "    elif game_choice == \"paper\" and player_choice == \"scissors\":\n",
    "        print(\"Player wins\")\n",
    "    elif game_choice == \"paper\" and player_choice == \"rock\":\n",
    "        print(\"Computer wins\")\n",
    "    elif game_choice == \"scissors\" and player_choice == \"rock\":\n",
    "        print(\"Player wins\")\n",
    "    elif game_choice == \"scissors\" and player_choice == \"paper\":\n",
    "        print(\"Computer wins\")"
   ]
  },
  {
   "cell_type": "code",
   "execution_count": null,
   "metadata": {},
   "outputs": [],
   "source": [
    "import random\n",
    "\n",
    "print(\"Welcome to Rock, Paper and Scissor game\")\n",
    "print(\"Do try your best to win if you dare\")\n",
    "\n",
    "# create a list containing the strings rock, paper and scissors\n",
    "game_list = [\"rock\",\"paper\",\"scissors\"]\n",
    "\n",
    "# initiate a boolean variable\n",
    "game_continue = True\n",
    "\n",
    "# create while loop\n",
    "while game_continue:\n",
    "\n",
    "    # using random method pick a value from your list above and assign it to a variable\n",
    "    game_choice = random.choice(game_list)\n",
    "\n",
    "\n",
    "    # ask the player to choose either rock, paper or scissors and store their answer in a variable\n",
    "    player_choice = input(\"Choose one: \")\n",
    "\n",
    "\n",
    "    # call function to check\n",
    "    who_wins(player_choice,game_choice)\n",
    "\n",
    "    # ask if player wants to play again\n",
    "    another_round = input(\"Do you wish to continue the game: \")\n",
    "\n",
    "    if another_round.lower() == \"no\":\n",
    "        game_continue = False\n"
   ]
  },
  {
   "cell_type": "code",
   "execution_count": null,
   "metadata": {},
   "outputs": [],
   "source": []
  }
 ],
 "metadata": {
  "kernelspec": {
   "display_name": "base",
   "language": "python",
   "name": "python3"
  },
  "language_info": {
   "codemirror_mode": {
    "name": "ipython",
    "version": 3
   },
   "file_extension": ".py",
   "mimetype": "text/x-python",
   "name": "python",
   "nbconvert_exporter": "python",
   "pygments_lexer": "ipython3",
   "version": "3.9.12"
  },
  "orig_nbformat": 4,
  "vscode": {
   "interpreter": {
    "hash": "53b9acdd54ac879a551304c815d5656c3a1d5d5cc610a256e6098324c699f771"
   }
  }
 },
 "nbformat": 4,
 "nbformat_minor": 2
}
