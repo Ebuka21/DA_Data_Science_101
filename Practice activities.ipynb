{
 "cells": [
  {
   "attachments": {},
   "cell_type": "markdown",
   "metadata": {},
   "source": [
    "### Practice Activities\n",
    "\n",
    "So as mentioned, to help you become more familiar with Python and help you thinking on how to write program there are a few activities which has been prepared for this. Among the activities are 3 games which you can simply choose one and another one which is compulsory for you to do.\n",
    "\n",
    "<b>Please do not be scared to explore more and search online for various ways</b>"
   ]
  },
  {
   "attachments": {},
   "cell_type": "markdown",
   "metadata": {},
   "source": [
    "### Games 🎮🎮\n",
    "\n",
    "#### Rock, Paper and Scissors\n",
    "This game is your usual rock paper scissors game, but it will been between the a user and the computer. The user will input their choice and the computer will randomly choose a value and the two values will be compared and a decision will be made on who wins and if its a draw.\n",
    "\n",
    "To consider:\n",
    "- use of input to take in user's choice\n",
    "- research and use of random module\n",
    "- use of conditionals - if, elif, else and while statement\n",
    "- functions to break your code into bits (optional)\n",
    "\n",
    "#### X and O game\n",
    "This game will be set to be between 2 players. You will need to start by printing the board along the positions of the board and for every position selected by a player, you should print the board with that position filled and at the same time check the whole to see if the condition required for the a player to win is met and when the whole board is filled and no one wins, it should be set as a draw\n",
    "\n",
    "To consider\n",
    "- input for the player to select x or o\n",
    "- print out the board everytime a position is selected\n",
    "- use of conditionals to check if someone wins or not\n",
    "\n",
    "#### Guessing game\n",
    "This is a simple game where the computer chooses a random number (can be set between a range of numbers), the player then picks a number and the program checks if it matches the random number selected. If the number a player chooses is less than the random number, then the player will be told that, same thing goes for if it number the players picks is higher. After a certain number of times if the player does not win, then its Game Over!!!\n",
    "\n",
    "To consider:\n",
    "- use of random module\n",
    "- use of conditionals\n",
    "- check how many times the person has guessed"
   ]
  },
  {
   "attachments": {},
   "cell_type": "markdown",
   "metadata": {},
   "source": [
    "### Information collection\n",
    "Write a program that requests for certain information from an individual and store it in a dictionary\n",
    "- First name\n",
    "- Last name\n",
    "- age\n",
    "- occupation\n",
    "- address(state)\n",
    "Print the dictionary at the end\n",
    "\n",
    "Further practice\n",
    "- do a while loop and collects the same information and store it in a dictionary where the values of lists containing the values provided by the individuals\n",
    "print the dictionary at the end of the program"
   ]
  }
 ],
 "metadata": {
  "kernelspec": {
   "display_name": "base",
   "language": "python",
   "name": "python3"
  },
  "language_info": {
   "name": "python",
   "version": "3.9.12"
  },
  "orig_nbformat": 4,
  "vscode": {
   "interpreter": {
    "hash": "53b9acdd54ac879a551304c815d5656c3a1d5d5cc610a256e6098324c699f771"
   }
  }
 },
 "nbformat": 4,
 "nbformat_minor": 2
}
