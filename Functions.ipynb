{
 "cells": [
  {
   "attachments": {},
   "cell_type": "markdown",
   "metadata": {},
   "source": [
    "# Functions\n",
    "\n",
    "Blocks of lines of code which are reusuable and can be used at any point in your program given the right requirements.\n",
    "\n",
    "Methods are basically functions but inbuilt into the programming language"
   ]
  },
  {
   "cell_type": "code",
   "execution_count": 1,
   "metadata": {},
   "outputs": [],
   "source": [
    "# string methods\n",
    "\n",
    "x = 'Ebuka'"
   ]
  },
  {
   "cell_type": "code",
   "execution_count": 2,
   "metadata": {},
   "outputs": [
    {
     "data": {
      "text/plain": [
       "'Ebuka'"
      ]
     },
     "execution_count": 2,
     "metadata": {},
     "output_type": "execute_result"
    }
   ],
   "source": [
    "x.capitalize()"
   ]
  },
  {
   "cell_type": "code",
   "execution_count": 3,
   "metadata": {},
   "outputs": [
    {
     "data": {
      "text/plain": [
       "'Ebuka'"
      ]
     },
     "execution_count": 3,
     "metadata": {},
     "output_type": "execute_result"
    }
   ],
   "source": [
    "x.title()"
   ]
  },
  {
   "cell_type": "code",
   "execution_count": 4,
   "metadata": {},
   "outputs": [
    {
     "data": {
      "text/plain": [
       "'EBUKA'"
      ]
     },
     "execution_count": 4,
     "metadata": {},
     "output_type": "execute_result"
    }
   ],
   "source": [
    "x.upper()"
   ]
  },
  {
   "cell_type": "code",
   "execution_count": 5,
   "metadata": {},
   "outputs": [
    {
     "data": {
      "text/plain": [
       "'ebuka'"
      ]
     },
     "execution_count": 5,
     "metadata": {},
     "output_type": "execute_result"
    }
   ],
   "source": [
    "x.lower()"
   ]
  },
  {
   "attachments": {},
   "cell_type": "markdown",
   "metadata": {},
   "source": [
    "integer methods"
   ]
  },
  {
   "cell_type": "code",
   "execution_count": 6,
   "metadata": {},
   "outputs": [],
   "source": [
    "y = -20.56"
   ]
  },
  {
   "cell_type": "code",
   "execution_count": 7,
   "metadata": {},
   "outputs": [
    {
     "data": {
      "text/plain": [
       "-21"
      ]
     },
     "execution_count": 7,
     "metadata": {},
     "output_type": "execute_result"
    }
   ],
   "source": [
    "round(y)"
   ]
  },
  {
   "cell_type": "code",
   "execution_count": 8,
   "metadata": {},
   "outputs": [
    {
     "data": {
      "text/plain": [
       "20.56"
      ]
     },
     "execution_count": 8,
     "metadata": {},
     "output_type": "execute_result"
    }
   ],
   "source": [
    "abs(y)"
   ]
  },
  {
   "attachments": {},
   "cell_type": "markdown",
   "metadata": {},
   "source": [
    "While creating Functions we have what we call arguments which can be found in brackets however you do not need to create arguments for your function depending on its objective hence not all functions require arguments"
   ]
  },
  {
   "cell_type": "code",
   "execution_count": 9,
   "metadata": {},
   "outputs": [],
   "source": [
    "# basic way of creating a function\n",
    "def number_squared(num):\n",
    "    # your block of code\n",
    "    pass"
   ]
  },
  {
   "cell_type": "code",
   "execution_count": 10,
   "metadata": {},
   "outputs": [
    {
     "ename": "IndentationError",
     "evalue": "expected an indented block (464733995.py, line 2)",
     "output_type": "error",
     "traceback": [
      "\u001b[1;36m  Input \u001b[1;32mIn [10]\u001b[1;36m\u001b[0m\n\u001b[1;33m    def dummy(x):\u001b[0m\n\u001b[1;37m                 ^\u001b[0m\n\u001b[1;31mIndentationError\u001b[0m\u001b[1;31m:\u001b[0m expected an indented block\n"
     ]
    }
   ],
   "source": [
    "# example of an error when code is not provided in the function block\n",
    "def dummy(x):\n"
   ]
  },
  {
   "cell_type": "code",
   "execution_count": 11,
   "metadata": {},
   "outputs": [],
   "source": [
    "# creating a complete function with a block of code\n",
    "def number_squared(num):\n",
    "    num_squ = num**2\n",
    "    return num_squ"
   ]
  },
  {
   "cell_type": "code",
   "execution_count": 12,
   "metadata": {},
   "outputs": [],
   "source": [
    "# creating a function with no return statement\n",
    "def number_squared_2(num):\n",
    "    num_squ = num**2\n",
    "    print(num_squ)"
   ]
  },
  {
   "attachments": {},
   "cell_type": "markdown",
   "metadata": {},
   "source": [
    "A return statement is required in a function when you want to use the output of that function to perform other activities or tasks"
   ]
  },
  {
   "cell_type": "code",
   "execution_count": 13,
   "metadata": {},
   "outputs": [],
   "source": [
    "x = 5"
   ]
  },
  {
   "cell_type": "code",
   "execution_count": 14,
   "metadata": {},
   "outputs": [],
   "source": [
    "# assigning the function to a variable\n",
    "y = number_squared(x)"
   ]
  },
  {
   "cell_type": "code",
   "execution_count": 15,
   "metadata": {},
   "outputs": [
    {
     "data": {
      "text/plain": [
       "25"
      ]
     },
     "execution_count": 15,
     "metadata": {},
     "output_type": "execute_result"
    }
   ],
   "source": [
    "# confirming that the variable now has the output of the function\n",
    "y"
   ]
  },
  {
   "cell_type": "code",
   "execution_count": 16,
   "metadata": {},
   "outputs": [
    {
     "name": "stdout",
     "output_type": "stream",
     "text": [
      "25\n"
     ]
    }
   ],
   "source": [
    "z = number_squared_2(x)"
   ]
  },
  {
   "cell_type": "code",
   "execution_count": 17,
   "metadata": {},
   "outputs": [],
   "source": [
    "# showcasing an example where a function without a return statement does nothing and cannot be assigned to a variable\n",
    "z"
   ]
  },
  {
   "cell_type": "code",
   "execution_count": 18,
   "metadata": {},
   "outputs": [
    {
     "name": "stdout",
     "output_type": "stream",
     "text": [
      "None\n"
     ]
    }
   ],
   "source": [
    "print(z)"
   ]
  },
  {
   "cell_type": "code",
   "execution_count": 19,
   "metadata": {},
   "outputs": [],
   "source": [
    "# print statements can be used in functions alongside the return statement\n",
    "def number_squared_2(num):\n",
    "    num_squ = num**2\n",
    "    print(num_squ)\n",
    "    return num_squ"
   ]
  },
  {
   "cell_type": "code",
   "execution_count": 20,
   "metadata": {},
   "outputs": [
    {
     "name": "stdout",
     "output_type": "stream",
     "text": [
      "25\n"
     ]
    }
   ],
   "source": [
    "z = number_squared_2(x)"
   ]
  },
  {
   "cell_type": "code",
   "execution_count": 21,
   "metadata": {},
   "outputs": [
    {
     "data": {
      "text/plain": [
       "25"
      ]
     },
     "execution_count": 21,
     "metadata": {},
     "output_type": "execute_result"
    }
   ],
   "source": [
    "z"
   ]
  },
  {
   "attachments": {},
   "cell_type": "markdown",
   "metadata": {},
   "source": [
    "The code below demonstrates a function created to take in a list of items and identify which item is string and which is integer and add them to the respective lists created for their datatype"
   ]
  },
  {
   "cell_type": "code",
   "execution_count": 22,
   "metadata": {},
   "outputs": [],
   "source": [
    "def list_item_type(items):\n",
    "    integers = []\n",
    "    words = []\n",
    "    \n",
    "    # using for statement to look at each item in the list\n",
    "    for item in items:\n",
    "        if type(item) == int:\n",
    "            integers.append(item)\n",
    "            print(str(item) + \": numeric\")\n",
    "        elif type(item) == str:\n",
    "            words.append(item)\n",
    "            print(item + \": string : \" + str(len(item)))\n",
    "\n",
    "    # here we are returning 2 items which are lists\n",
    "    return integers, words\n"
   ]
  },
  {
   "cell_type": "code",
   "execution_count": 23,
   "metadata": {},
   "outputs": [],
   "source": [
    "test1 = [\"dome\", 4, \"church\", \"nigeria\", 63, 44, \"hello world\"]"
   ]
  },
  {
   "cell_type": "code",
   "execution_count": 24,
   "metadata": {},
   "outputs": [
    {
     "name": "stdout",
     "output_type": "stream",
     "text": [
      "dome: string : 4\n",
      "4: numeric\n",
      "church: string : 6\n",
      "nigeria: string : 7\n",
      "63: numeric\n",
      "44: numeric\n",
      "hello world: string : 11\n"
     ]
    }
   ],
   "source": [
    "# because the function can return 2 items, then 2 items can be used at the same time when calling the function\n",
    "a,b = list_item_type(test1)"
   ]
  },
  {
   "cell_type": "code",
   "execution_count": 25,
   "metadata": {},
   "outputs": [
    {
     "data": {
      "text/plain": [
       "[4, 63, 44]"
      ]
     },
     "execution_count": 25,
     "metadata": {},
     "output_type": "execute_result"
    }
   ],
   "source": [
    "a"
   ]
  },
  {
   "cell_type": "code",
   "execution_count": 26,
   "metadata": {},
   "outputs": [
    {
     "data": {
      "text/plain": [
       "['dome', 'church', 'nigeria', 'hello world']"
      ]
     },
     "execution_count": 26,
     "metadata": {},
     "output_type": "execute_result"
    }
   ],
   "source": [
    "b"
   ]
  },
  {
   "attachments": {},
   "cell_type": "markdown",
   "metadata": {},
   "source": [
    "Below are more examples of functions created to perform tasks and help reduce the amount of code written. Always rememeber to put a block comment to explain the objective of the function created."
   ]
  },
  {
   "cell_type": "code",
   "execution_count": 27,
   "metadata": {},
   "outputs": [],
   "source": [
    "\"\"\"\n",
    "function below takes in 2 arguments and compares them to determine which is greater or if they are the same\n",
    "\"\"\"\n",
    "\n",
    "def bigger_than(var_a,var_b):\n",
    "    if var_a > var_b:\n",
    "        print(\"var_a \" + str(var_a) + \" is greater than var_b \" + str(var_b))\n",
    "    elif var_a < var_b:\n",
    "        print(\"var_a \" + str(var_a) + \" is less than var_b \" + str(var_b))\n",
    "    elif var_a == var_b:\n",
    "        print(\"var_a \" + str(var_a) + \" is equal to var_b \" + str(var_b))"
   ]
  },
  {
   "cell_type": "code",
   "execution_count": 28,
   "metadata": {},
   "outputs": [
    {
     "name": "stdout",
     "output_type": "stream",
     "text": [
      "var_a 45 is greater than var_b 23\n"
     ]
    }
   ],
   "source": [
    "bigger_than(45,23)"
   ]
  },
  {
   "cell_type": "code",
   "execution_count": 29,
   "metadata": {},
   "outputs": [],
   "source": [
    "\"\"\"\n",
    "function below takes in 2 arguments and compares them to determine which is greater or if they are the same\n",
    "\"\"\"\n",
    "\n",
    "def int_compare(x,y):\n",
    "    if x > y:\n",
    "        print(\"x is greater than y\")\n",
    "    elif x < y:\n",
    "        print(\"x is less than y\")\n",
    "    elif x == y:\n",
    "        print(\"x is equal to y\")"
   ]
  },
  {
   "cell_type": "code",
   "execution_count": 30,
   "metadata": {},
   "outputs": [
    {
     "name": "stdout",
     "output_type": "stream",
     "text": [
      "x is less than y\n"
     ]
    }
   ],
   "source": [
    "int_compare(4,6)"
   ]
  },
  {
   "cell_type": "code",
   "execution_count": 31,
   "metadata": {},
   "outputs": [
    {
     "name": "stdout",
     "output_type": "stream",
     "text": [
      "x is greater than y\n"
     ]
    }
   ],
   "source": [
    "int_compare(10,2)"
   ]
  },
  {
   "cell_type": "code",
   "execution_count": 32,
   "metadata": {},
   "outputs": [],
   "source": [
    "\"\"\"\n",
    "function will take in a integer and produce 2 random number between 0 and the integer provided\n",
    "\"\"\"\n",
    "\n",
    "import random\n",
    "\n",
    "def int_random(limit):\n",
    "    a = random.randrange(0,limit)\n",
    "    b = random.randrange(0,limit)\n",
    "\n",
    "    return a,b"
   ]
  },
  {
   "cell_type": "code",
   "execution_count": 33,
   "metadata": {},
   "outputs": [
    {
     "name": "stdout",
     "output_type": "stream",
     "text": [
      "x is equal to y\n"
     ]
    }
   ],
   "source": [
    "# combining multiple functions to create the final code\n",
    "va,vb = int_random(20)\n",
    "int_compare(va,vb)"
   ]
  },
  {
   "attachments": {},
   "cell_type": "markdown",
   "metadata": {},
   "source": [
    "From the cell above, you can see how using functions has cut the final code from about 10 or more lines to simply 2 lines. This is great because we can call these functions anytime in our code making them reusuable."
   ]
  },
  {
   "cell_type": "code",
   "execution_count": 34,
   "metadata": {},
   "outputs": [
    {
     "name": "stdout",
     "output_type": "stream",
     "text": [
      "x is less than y\n",
      "x is greater than y\n",
      "x is greater than y\n"
     ]
    }
   ],
   "source": [
    "\"\"\"\n",
    "This increases the complexity of the code by taking in a number from the user and comparing it to the 2 random generated numbers\n",
    "\"\"\"\n",
    "\n",
    "vc = int(input(\"Enter a random number: \"))\n",
    "va,vb = int_random(30)\n",
    "int_compare(va,vb)\n",
    "int_compare(va,vc)\n",
    "int_compare(vb,vc)"
   ]
  },
  {
   "attachments": {},
   "cell_type": "markdown",
   "metadata": {},
   "source": [
    "#### Optional arguments\n",
    "\n",
    "In as much as we have functions that take arguments and do not take argument, occasionally you will come across functions that take what we call optional arguments. This means that it is not a problem if an argument is provided or not and there is a difference when it is provided or not in the output. By putting star(*) in front of the agument name, you have created an optional argument"
   ]
  },
  {
   "cell_type": "code",
   "execution_count": 35,
   "metadata": {},
   "outputs": [],
   "source": [
    "# example of a function with optional arguments\n",
    "\n",
    "def optional(*option):\n",
    "    print(\"This line will always print\")\n",
    "    if bool(option) == True:\n",
    "        print(\"An argument was provided\")\n",
    "        print(option)"
   ]
  },
  {
   "cell_type": "code",
   "execution_count": 36,
   "metadata": {},
   "outputs": [
    {
     "name": "stdout",
     "output_type": "stream",
     "text": [
      "This line will always print\n"
     ]
    }
   ],
   "source": [
    "# function without arguments\n",
    "optional()"
   ]
  },
  {
   "cell_type": "code",
   "execution_count": 37,
   "metadata": {},
   "outputs": [
    {
     "name": "stdout",
     "output_type": "stream",
     "text": [
      "This line will always print\n",
      "An argument was provided\n",
      "(244,)\n"
     ]
    }
   ],
   "source": [
    "# function with arguments\n",
    "optional(244)"
   ]
  },
  {
   "attachments": {},
   "cell_type": "markdown",
   "metadata": {},
   "source": [
    "Spot the difference in the 2 cells above. We can see that the function behaves differently and produces a different output based on if it has an argument or not"
   ]
  },
  {
   "attachments": {},
   "cell_type": "markdown",
   "metadata": {},
   "source": [
    "## THE END"
   ]
  }
 ],
 "metadata": {
  "kernelspec": {
   "display_name": "base",
   "language": "python",
   "name": "python3"
  },
  "language_info": {
   "codemirror_mode": {
    "name": "ipython",
    "version": 3
   },
   "file_extension": ".py",
   "mimetype": "text/x-python",
   "name": "python",
   "nbconvert_exporter": "python",
   "pygments_lexer": "ipython3",
   "version": "3.9.12"
  },
  "orig_nbformat": 4,
  "vscode": {
   "interpreter": {
    "hash": "53b9acdd54ac879a551304c815d5656c3a1d5d5cc610a256e6098324c699f771"
   }
  }
 },
 "nbformat": 4,
 "nbformat_minor": 2
}
