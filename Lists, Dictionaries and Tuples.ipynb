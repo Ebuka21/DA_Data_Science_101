{
 "cells": [
  {
   "attachments": {},
   "cell_type": "markdown",
   "metadata": {},
   "source": [
    "# Dome Academy\n",
    "\n",
    "## Data Science 101\n",
    "\n",
    "### Welcome Domites!!!!!\n",
    "\n",
    "My name is Ebuka and I will be your instructor for this course Data Science 101. First of all I want to congratulate you all for making this decision to add such a skill to your various number of skills, as been able to interpret data is a skill that is very much in increasing demand with the vast amount of data been created nowadays.\n",
    "\n",
    "During the length of this course, please do not hesitate to ask any question both in slack or during the class sessions.\n",
    "\n",
    "These notes will be provided to act a guidance and reference to bits of what we will learn during the course\n"
   ]
  },
  {
   "attachments": {},
   "cell_type": "markdown",
   "metadata": {},
   "source": [
    "<b>Do not be afraid 😎</b>\n",
    "\n",
    "For this course, a lot of practical work will be done so as to help you get more comfortable with doing data analysis and also with Python.\n",
    "\n",
    "As you may have noticed and I mentioned in our class, I am not using the typical IDE where you write long code with lots of comments in-between, rather I am using something called Jupyter notebooks. As the name implies, it is actually a notebook where you can make notes like I am here and also write and run code as well in cell blocks. I believe this notebook is very good especially for beginners in Python because you can break your code into multiple bits and test each part seperately so that way even debugging your code becomes easier. This notebooks also becomes good for us Data Analysts/Scientists because you can make valid notes and deductions from your analysis and that way present it to your client or stakeholders.\n",
    "\n",
    "To obtain this Jupyter notebooks there are two ways:\n",
    "\n",
    "1. You can download and install Anaconda which is a good navigator made for data scientists and comes will all the packages installed, plus it is easier to work with, though it can be quite heavy.\n",
    "2. Alternatively (not sure if this english is correct😂), on visual studio code, there is an extension called Jupyter which has been added and enables you to actually have juypter notebook run on your VS code making everything much easier (God bless Microsoft🙌)\n",
    "\n",
    "I strongly advise you to get this Jupyter notebook as that is what I will be using for the duration of the course and notes like this will be in them making it easier for you to interact with my notes.\n",
    "\n",
    "<i><b>To note</b></i>\n",
    "\n",
    "This type of cell where I am writing the notes is called Markdown and is a style of writing which you learn more about and customize what is written in this type of cell. More information can be found in this link <a href=https://www.markdownguide.org/>Markdown</a>"
   ]
  },
  {
   "cell_type": "code",
   "execution_count": null,
   "metadata": {},
   "outputs": [],
   "source": [
    "# to run your cell press Shift + Enter on your keyboard\n",
    "print (\"Hello Dome Academy students\")"
   ]
  },
  {
   "attachments": {},
   "cell_type": "markdown",
   "metadata": {},
   "source": [
    "### Lists, Dictionaries and Tuples\n",
    "\n",
    "Today we will look at the variable types lists, dictionaries and tuples. They are similar in the area that you can store more than one item in them but at the same time they are also very much different starting with the different brackets used to identify them as shown below:\n",
    "\n",
    "<ul>\n",
    "<li>list --> []</li>\n",
    "<li>dictionaries --> {}</li>\n",
    "<li>tuples --> ()</li>\n",
    "</ul>\n",
    "\n",
    "<i><b>To note</b></i>\n",
    "\n",
    "If you are ever confused about a variable type and you want to check it, there is a function in python called type that can help you clarify. To use it simply run \n",
    "\n",
    "---> type(variable name) <----"
   ]
  },
  {
   "attachments": {},
   "cell_type": "markdown",
   "metadata": {},
   "source": [
    "#### Lists\n",
    "<ul>\n",
    "<li>Lists as they imply are simply a collection of items which can be found in square brackets []. </li>\n",
    "<li>Lists can contain any number of items and can contain even different types of variables within which means a list can have inside it a string, an integer and even another list. </li>\n",
    "<li>The main thing to know about lists is that they are mutable which means after creation you can make changes to it, you can add, remove and replace items.</li>\n",
    "</ul>"
   ]
  },
  {
   "cell_type": "markdown",
   "metadata": {},
   "source": []
  },
  {
   "cell_type": "code",
   "execution_count": null,
   "metadata": {},
   "outputs": [],
   "source": [
    "# examples of list variable\n",
    "\n",
    "room = [\"shoe\",\"bed\",\"box\",\"mirror\",\"clothes\",\"hats\"]\n",
    "kitchen = [\"pot\",\"kettle\",\"blender\",\"microwave\"]\n",
    "parlor = [\"couch\", \"TV\", \"speakers\", \"table\"]\n",
    "ages = [0,1,5,3]\n",
    "\n",
    "# this is a list containing integers, strings and another list\n",
    "mix = [3,5,2,\"testing\",\"mixing differnt datatypes\",[2,5,6,5]]\n",
    "\n",
    "# using type to check the variable type\n",
    "type(room)"
   ]
  },
  {
   "cell_type": "code",
   "execution_count": null,
   "metadata": {},
   "outputs": [],
   "source": [
    "room"
   ]
  },
  {
   "attachments": {},
   "cell_type": "markdown",
   "metadata": {},
   "source": [
    "##### List Methods\n",
    "\n",
    "Methods are basically functions which you can do a variable to manipulate it. Below are basic methods which can be used with lists"
   ]
  },
  {
   "cell_type": "code",
   "execution_count": null,
   "metadata": {},
   "outputs": [],
   "source": [
    "# to select an item from a list, if you know the index \n",
    "room[2]"
   ]
  },
  {
   "cell_type": "code",
   "execution_count": null,
   "metadata": {},
   "outputs": [],
   "source": [
    "# to add an item to the list\n",
    "room.append(\"belts\")"
   ]
  },
  {
   "cell_type": "code",
   "execution_count": null,
   "metadata": {},
   "outputs": [],
   "source": [
    "# to replace an item on the list with another\n",
    "room[0] = \"sandals\""
   ]
  },
  {
   "cell_type": "code",
   "execution_count": null,
   "metadata": {},
   "outputs": [],
   "source": [
    "# printing out room variable to show the changes made\n",
    "room"
   ]
  },
  {
   "attachments": {},
   "cell_type": "markdown",
   "metadata": {},
   "source": [
    "#### Dictionaries ❤\n",
    "\n",
    "Dictionaries are a type of variable that works on what we call key-value format. This means the variable contains keys and values are assigned to them. The keys can either be integers or strings and the values can either be strings, integers, floats, lists and dictionaries.\n",
    "\n",
    "Because of this, dictionaries can be used in a very complex way especially in storing information. Also dictionaries are mutable hence they changes can be done to them"
   ]
  },
  {
   "cell_type": "code",
   "execution_count": null,
   "metadata": {},
   "outputs": [],
   "source": [
    "# dictionary example\n",
    "\n",
    "house = {\n",
    "        \"room\":room,\n",
    "        \"kitchen\":[\"pot\",\"kettle\",\"blender\",\"microwave\"],\n",
    "        \"parlor\":parlor,\n",
    "        \"number\":3,\n",
    "        5:\"This is the number of rooms I want to have\"\n",
    "        }\n",
    "        \n",
    "type(house)"
   ]
  },
  {
   "attachments": {},
   "cell_type": "markdown",
   "metadata": {},
   "source": [
    "##### Dictionary Methods"
   ]
  },
  {
   "cell_type": "code",
   "execution_count": null,
   "metadata": {},
   "outputs": [],
   "source": [
    "# to call a value knowing the key to it\n",
    "house[\"room\"]"
   ]
  },
  {
   "cell_type": "code",
   "execution_count": null,
   "metadata": {},
   "outputs": [],
   "source": [
    "# calling a value within a value\n",
    "house[\"room\"][2]"
   ]
  },
  {
   "cell_type": "code",
   "execution_count": null,
   "metadata": {},
   "outputs": [],
   "source": [
    "# to add a new item to the dictionary\n",
    "house[\"address\"] = \"Lagos state\""
   ]
  },
  {
   "cell_type": "code",
   "execution_count": null,
   "metadata": {},
   "outputs": [],
   "source": [
    "# to replace the value of a key\n",
    "house[5] = \"I am replacing this as a test\""
   ]
  },
  {
   "cell_type": "code",
   "execution_count": null,
   "metadata": {},
   "outputs": [],
   "source": [
    "# to show all the keys in your dictionary\n",
    "house.keys()"
   ]
  },
  {
   "cell_type": "code",
   "execution_count": null,
   "metadata": {},
   "outputs": [],
   "source": [
    "# to show all the values in your dictionary\n",
    "house.values()"
   ]
  },
  {
   "attachments": {},
   "cell_type": "markdown",
   "metadata": {},
   "source": [
    "#### Tuple\n",
    "\n",
    "Tuples just like lists and dictionaries take in a couple of items and store in one variable, however the major difference is that they are immutable and hence I call them stubborn because you cannot change anything about it once it has been created. You cannot add to it or remove anything from it, or replace anything inside it. "
   ]
  },
  {
   "cell_type": "code",
   "execution_count": null,
   "metadata": {},
   "outputs": [],
   "source": [
    "# an example of a tuple\n",
    "outside = (\"trees\",\"sky\",\"rain\",\"sun\",\"shege\")\n",
    "type(outside)"
   ]
  },
  {
   "cell_type": "code",
   "execution_count": null,
   "metadata": {},
   "outputs": [],
   "source": [
    "# selecting an item from the tuple\n",
    "outside[2]"
   ]
  },
  {
   "cell_type": "code",
   "execution_count": null,
   "metadata": {},
   "outputs": [],
   "source": [
    "# showing that nothing can be done to the tuple as it will produce an error\n",
    "outside[2] = \"snow\""
   ]
  },
  {
   "attachments": {},
   "cell_type": "markdown",
   "metadata": {},
   "source": [
    "### Input function\n",
    "\n",
    "When we write program another important part is to interact with users of our program and take in the information they provide to process. With this function we can take in information and store them in variables"
   ]
  },
  {
   "cell_type": "code",
   "execution_count": null,
   "metadata": {},
   "outputs": [],
   "source": [
    "# an example of using the input function\n",
    "print(\"Enter your first name: \")\n",
    "firstname = input()"
   ]
  },
  {
   "cell_type": "code",
   "execution_count": null,
   "metadata": {},
   "outputs": [],
   "source": [
    "# printing the value\n",
    "firstname"
   ]
  },
  {
   "cell_type": "code",
   "execution_count": null,
   "metadata": {},
   "outputs": [],
   "source": [
    "# another example of using the input function\n",
    "lastname = input(\"Enter your last name: \")"
   ]
  },
  {
   "cell_type": "code",
   "execution_count": null,
   "metadata": {},
   "outputs": [],
   "source": [
    "# printing the value\n",
    "lastname"
   ]
  },
  {
   "cell_type": "code",
   "execution_count": null,
   "metadata": {},
   "outputs": [],
   "source": [
    "# an example of input function to take in integers\n",
    "num = int(input(\"Enter your age: \"))\n",
    "num"
   ]
  },
  {
   "cell_type": "code",
   "execution_count": null,
   "metadata": {},
   "outputs": [],
   "source": [
    "# an example of the input function to take in float values\n",
    "num2 = float(input(\"Enter the money you have in your account: \"))\n",
    "num2"
   ]
  },
  {
   "cell_type": "code",
   "execution_count": null,
   "metadata": {},
   "outputs": [],
   "source": []
  }
 ],
 "metadata": {
  "kernelspec": {
   "display_name": "base",
   "language": "python",
   "name": "python3"
  },
  "language_info": {
   "codemirror_mode": {
    "name": "ipython",
    "version": 3
   },
   "file_extension": ".py",
   "mimetype": "text/x-python",
   "name": "python",
   "nbconvert_exporter": "python",
   "pygments_lexer": "ipython3",
   "version": "3.9.12"
  },
  "orig_nbformat": 4,
  "vscode": {
   "interpreter": {
    "hash": "53b9acdd54ac879a551304c815d5656c3a1d5d5cc610a256e6098324c699f771"
   }
  }
 },
 "nbformat": 4,
 "nbformat_minor": 2
}
